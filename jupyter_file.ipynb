{
 "cells": [
  {
   "cell_type": "code",
   "execution_count": null,
   "id": "cdaee089",
   "metadata": {},
   "outputs": [],
   "source": [
    "import numpy as np"
   ]
  },
  {
   "cell_type": "code",
   "execution_count": null,
   "id": "c0c9b4db",
   "metadata": {},
   "outputs": [],
   "source": []
  },
  {
   "cell_type": "code",
   "execution_count": null,
   "id": "f079986c",
   "metadata": {},
   "outputs": [],
   "source": []
  },
  {
   "cell_type": "code",
   "execution_count": null,
   "id": "201f0daa",
   "metadata": {},
   "outputs": [],
   "source": [
    "from langchain.agents import AgentType, initialize_agent, load_tools\n",
    "from langchain.llms import OpenAI\n",
    "\n",
    "tools= load_tools([\"wikipedia\", \"llm-math\"],llm=llm)\n",
    "\n",
    "agent = initialize_agent(\n",
    "         tools,\n",
    "         llm,\n",
    "       agent= AgentType.ZERO_SHOT_REACT_DESCRIPTION\n",
    "        verbose=True\n",
    ")\n",
    "\n",
    "agent.run(\"\")"
   ]
  },
  {
   "cell_type": "code",
   "execution_count": null,
   "id": "a5faafd6",
   "metadata": {},
   "outputs": [],
   "source": [
    "\n",
    "os.environ['SERPAPI_KEY']= \"a2e08b9ee706298951072646bd036b5ce21e42c08399fd5e79d5f5b4c37b55d4\""
   ]
  },
  {
   "cell_type": "code",
   "execution_count": null,
   "id": "05e89df6",
   "metadata": {},
   "outputs": [],
   "source": [
    "tools= load_tools([\"serpapi\", \"llm-math\"],llm=llm)"
   ]
  },
  {
   "cell_type": "code",
   "execution_count": null,
   "id": "12dff935",
   "metadata": {},
   "outputs": [],
   "source": [
    "agent = initialize_agent(\n",
    "         tools,\n",
    "         llm,\n",
    "       agent= AgentType.ZERO_SHOT_REACT_DESCRIPTION\n",
    "        verbose=True\n",
    ")"
   ]
  },
  {
   "cell_type": "code",
   "execution_count": null,
   "id": "768478cd",
   "metadata": {},
   "outputs": [],
   "source": [
    "agent.run(\"What was the gdp of us in 20222 plus 5\")"
   ]
  },
  {
   "cell_type": "code",
   "execution_count": null,
   "id": "6399f32b",
   "metadata": {},
   "outputs": [],
   "source": [
    "from langchain.memory import ConversationalBufferMemory\n",
    "memory = ConversationBufferMemory()\n",
    "\n",
    "chain = LLMChain(llm=llm, prompt =prompt_template_name, memory= memory)\n",
    "\n",
    "name= chain.run(\"Mexican\")\n",
    "print(name)"
   ]
  },
  {
   "cell_type": "code",
   "execution_count": 3,
   "id": "dd51c901",
   "metadata": {},
   "outputs": [
    {
     "ename": "NameError",
     "evalue": "name 'chain' is not defined",
     "output_type": "error",
     "traceback": [
      "\u001b[1;31m---------------------------------------------------------------------------\u001b[0m",
      "\u001b[1;31mNameError\u001b[0m                                 Traceback (most recent call last)",
      "Cell \u001b[1;32mIn[3], line 1\u001b[0m\n\u001b[1;32m----> 1\u001b[0m \u001b[38;5;28mprint\u001b[39m(\u001b[43mchain\u001b[49m\u001b[38;5;241m.\u001b[39mmemory\u001b[38;5;241m.\u001b[39mbuffer)\n",
      "\u001b[1;31mNameError\u001b[0m: name 'chain' is not defined"
     ]
    }
   ],
   "source": [
    "print(chain.memory.buffer)"
   ]
  },
  {
   "cell_type": "code",
   "execution_count": null,
   "id": "f92694fb",
   "metadata": {},
   "outputs": [],
   "source": [
    "from langchain.memory import ConversationBufferWindowMemory\n",
    "\n",
    "memory = ConversationBufferWindowMemory(k=2)\n",
    "\n",
    "convo = ConversationChain(\n",
    "\n",
    "\n",
    "llm= OpenAI(temperature= 0.6)),\n",
    "memory= memory\n",
    "\n",
    ")\n",
    "\n",
    "convo.run(\"Who won the first cricket world cup\")"
   ]
  },
  {
   "cell_type": "code",
   "execution_count": null,
   "id": "6c287a27",
   "metadata": {},
   "outputs": [],
   "source": []
  },
  {
   "cell_type": "code",
   "execution_count": null,
   "id": "c6c14889",
   "metadata": {},
   "outputs": [],
   "source": []
  }
 ],
 "metadata": {
  "kernelspec": {
   "display_name": "Python 3 (ipykernel)",
   "language": "python",
   "name": "python3"
  },
  "language_info": {
   "codemirror_mode": {
    "name": "ipython",
    "version": 3
   },
   "file_extension": ".py",
   "mimetype": "text/x-python",
   "name": "python",
   "nbconvert_exporter": "python",
   "pygments_lexer": "ipython3",
   "version": "3.11.4"
  }
 },
 "nbformat": 4,
 "nbformat_minor": 5
}
