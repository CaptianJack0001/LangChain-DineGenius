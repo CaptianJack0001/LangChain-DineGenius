{
 "cells": [
  {
   "cell_type": "code",
   "execution_count": null,
   "id": "a60800fb",
   "metadata": {},
   "outputs": [],
   "source": [
    "import numpy as np"
   ]
  },
  {
   "cell_type": "code",
   "execution_count": null,
   "id": "30144dab",
   "metadata": {},
   "outputs": [],
   "source": []
  },
  {
   "cell_type": "code",
   "execution_count": null,
   "id": "35934908",
   "metadata": {},
   "outputs": [],
   "source": []
  },
  {
   "cell_type": "code",
   "execution_count": null,
   "id": "85d1b8c8",
   "metadata": {},
   "outputs": [],
   "source": [
    "from langchain.agents import AgentType, initialize_agent, load_tools\n",
    "from langchain.llms import OpenAI\n",
    "\n",
    "tools= load_tools([\"wikipedia\", \"llm-math\"],llm=llm)\n",
    "\n",
    "agent = initialize_agent(\n",
    "         tools,\n",
    "         llm,\n",
    "       agent= AgentType.ZERO_SHOT_REACT_DESCRIPTION\n",
    "        verbose=True\n",
    ")\n",
    "\n",
    "agent.run(\"\")"
   ]
  },
  {
   "cell_type": "code",
   "execution_count": null,
   "id": "b8ed0a28",
   "metadata": {},
   "outputs": [],
   "source": [
    "\n",
    "os.environ['SERPAPI_KEY']= \"a2e08b9ee706298951072646bd036b5ce21e42c08399fd5e79d5f5b4c37b55d4\""
   ]
  },
  {
   "cell_type": "code",
   "execution_count": null,
   "id": "e4d728e1",
   "metadata": {},
   "outputs": [],
   "source": [
    "tools= load_tools([\"serpapi\", \"llm-math\"],llm=llm)"
   ]
  },
  {
   "cell_type": "code",
   "execution_count": null,
   "id": "2f401917",
   "metadata": {},
   "outputs": [],
   "source": [
    "agent = initialize_agent(\n",
    "         tools,\n",
    "         llm,\n",
    "       agent= AgentType.ZERO_SHOT_REACT_DESCRIPTION\n",
    "        verbose=True\n",
    ")"
   ]
  },
  {
   "cell_type": "code",
   "execution_count": null,
   "id": "4f563a05",
   "metadata": {},
   "outputs": [],
   "source": [
    "agent.run(\"What was the gdp of us in 20222 plus 5\")"
   ]
  },
  {
   "cell_type": "code",
   "execution_count": null,
   "id": "35a47584",
   "metadata": {},
   "outputs": [],
   "source": [
    "from langchain.memory import ConversationalBufferMemory\n",
    "memory = ConversationBufferMemory()\n",
    "\n",
    "chain = LLMChain(llm=llm, prompt =prompt_template_name, memory= memory)\n",
    "\n",
    "name= chain.run(\"Mexican\")\n",
    "print(name)"
   ]
  },
  {
   "cell_type": "code",
   "execution_count": 3,
   "id": "63a418a2",
   "metadata": {},
   "outputs": [
    {
     "ename": "NameError",
     "evalue": "name 'chain' is not defined",
     "output_type": "error",
     "traceback": [
      "\u001b[1;31m---------------------------------------------------------------------------\u001b[0m",
      "\u001b[1;31mNameError\u001b[0m                                 Traceback (most recent call last)",
      "Cell \u001b[1;32mIn[3], line 1\u001b[0m\n\u001b[1;32m----> 1\u001b[0m \u001b[38;5;28mprint\u001b[39m(\u001b[43mchain\u001b[49m\u001b[38;5;241m.\u001b[39mmemory\u001b[38;5;241m.\u001b[39mbuffer)\n",
      "\u001b[1;31mNameError\u001b[0m: name 'chain' is not defined"
     ]
    }
   ],
   "source": [
    "print(chain.memory.buffer)"
   ]
  },
  {
   "cell_type": "code",
   "execution_count": null,
   "id": "cd0d200e",
   "metadata": {},
   "outputs": [],
   "source": [
    "from langchain.memory import ConversationBufferWindowMemory\n",
    "\n",
    "memory = ConversationBufferWindowMemory(k=2)\n",
    "\n",
    "convo = ConversationChain(\n",
    "\n",
    "\n",
    "llm= OpenAI(temperature= 0.6)),\n",
    "memory= memory\n",
    "\n",
    ")\n",
    "\n",
    "convo.run(\"Who won the first cricket world cup\")"
   ]
  },
  {
   "cell_type": "code",
   "execution_count": null,
   "id": "8c1eb9f7",
   "metadata": {},
   "outputs": [],
   "source": []
  },
  {
   "cell_type": "code",
   "execution_count": null,
   "id": "798918ce",
   "metadata": {},
   "outputs": [],
   "source": []
  }
 ],
 "metadata": {
  "kernelspec": {
   "display_name": "Python 3 (ipykernel)",
   "language": "python",
   "name": "python3"
  },
  "language_info": {
   "codemirror_mode": {
    "name": "ipython",
    "version": 3
   },
   "file_extension": ".py",
   "mimetype": "text/x-python",
   "name": "python",
   "nbconvert_exporter": "python",
   "pygments_lexer": "ipython3",
   "version": "3.11.4"
  }
 },
 "nbformat": 4,
 "nbformat_minor": 5
}
